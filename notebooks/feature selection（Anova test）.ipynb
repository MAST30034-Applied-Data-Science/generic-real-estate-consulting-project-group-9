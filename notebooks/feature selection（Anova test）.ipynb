{
 "cells": [
  {
   "cell_type": "markdown",
   "id": "c8c51490",
   "metadata": {},
   "source": [
    "## Feature selection by using anova test"
   ]
  },
  {
   "cell_type": "code",
   "execution_count": 1,
   "id": "f01e2bfa",
   "metadata": {},
   "outputs": [],
   "source": [
    "# Read the final version file of dataset after prepocess\n",
    "import pandas as pd\n",
    "df = pd.read_csv(\"../data/curated/price_normalised3.csv\")\n",
    "df = df.rename(columns={'train_station(m)':'train_station','CBD(m)':'CBD'}) "
   ]
  },
  {
   "cell_type": "markdown",
   "id": "e6216c8f",
   "metadata": {},
   "source": [
    "## Using ANOVA helps to determine if a categorical variable has influence on a numerical variable\n",
    "\n",
    "#### link: https://towardsdatascience.com/statistics-in-python-using-anova-for-feature-selection-b4dc876ef4f0#:~:text=ANOVA%20is%20used%20for%20testing%20two%20variables%2C%20where%3A,categorical%20variable%202%20another%20is%20a%20numerical%20variable"
   ]
  },
  {
   "cell_type": "markdown",
   "id": "027f8580",
   "metadata": {},
   "source": [
    "\n",
    "if p < 0.05, this means that the categorical variable has significant influence on the numerical variable\n",
    "if p > 0.05, this means that the categorical variable has no significant influence on the numerical variable"
   ]
  },
  {
   "cell_type": "markdown",
   "id": "26cde66c",
   "metadata": {},
   "source": [
    "## ANOVA"
   ]
  },
  {
   "cell_type": "code",
   "execution_count": 2,
   "id": "731cc528",
   "metadata": {},
   "outputs": [
    {
     "data": {
      "text/html": [
       "<div>\n",
       "<style scoped>\n",
       "    .dataframe tbody tr th:only-of-type {\n",
       "        vertical-align: middle;\n",
       "    }\n",
       "\n",
       "    .dataframe tbody tr th {\n",
       "        vertical-align: top;\n",
       "    }\n",
       "\n",
       "    .dataframe thead th {\n",
       "        text-align: right;\n",
       "    }\n",
       "</style>\n",
       "<table border=\"1\" class=\"dataframe\">\n",
       "  <thead>\n",
       "    <tr style=\"text-align: right;\">\n",
       "      <th></th>\n",
       "      <th>sum_sq</th>\n",
       "      <th>df</th>\n",
       "      <th>F</th>\n",
       "      <th>PR(&gt;F)</th>\n",
       "    </tr>\n",
       "  </thead>\n",
       "  <tbody>\n",
       "    <tr>\n",
       "      <th>C(property_type)</th>\n",
       "      <td>4.004823e+06</td>\n",
       "      <td>14.0</td>\n",
       "      <td>6.637327</td>\n",
       "      <td>1.354623e-13</td>\n",
       "    </tr>\n",
       "    <tr>\n",
       "      <th>C(bedrooms)</th>\n",
       "      <td>2.539828e+07</td>\n",
       "      <td>11.0</td>\n",
       "      <td>53.573437</td>\n",
       "      <td>4.080512e-114</td>\n",
       "    </tr>\n",
       "    <tr>\n",
       "      <th>C(bathrooms)</th>\n",
       "      <td>3.151468e+07</td>\n",
       "      <td>9.0</td>\n",
       "      <td>81.247174</td>\n",
       "      <td>1.217086e-143</td>\n",
       "    </tr>\n",
       "    <tr>\n",
       "      <th>C(parking)</th>\n",
       "      <td>2.815069e+06</td>\n",
       "      <td>13.0</td>\n",
       "      <td>5.024393</td>\n",
       "      <td>6.448718e-09</td>\n",
       "    </tr>\n",
       "    <tr>\n",
       "      <th>schools</th>\n",
       "      <td>1.110345e+06</td>\n",
       "      <td>1.0</td>\n",
       "      <td>25.762971</td>\n",
       "      <td>3.964761e-07</td>\n",
       "    </tr>\n",
       "    <tr>\n",
       "      <th>train_station</th>\n",
       "      <td>1.017019e+07</td>\n",
       "      <td>1.0</td>\n",
       "      <td>235.975557</td>\n",
       "      <td>2.320107e-52</td>\n",
       "    </tr>\n",
       "    <tr>\n",
       "      <th>CBD</th>\n",
       "      <td>2.228292e+07</td>\n",
       "      <td>1.0</td>\n",
       "      <td>517.023168</td>\n",
       "      <td>2.689856e-110</td>\n",
       "    </tr>\n",
       "    <tr>\n",
       "      <th>population2022</th>\n",
       "      <td>4.878717e+06</td>\n",
       "      <td>1.0</td>\n",
       "      <td>113.199226</td>\n",
       "      <td>3.164387e-26</td>\n",
       "    </tr>\n",
       "    <tr>\n",
       "      <th>income2022</th>\n",
       "      <td>7.001461e+05</td>\n",
       "      <td>1.0</td>\n",
       "      <td>16.245256</td>\n",
       "      <td>5.626814e-05</td>\n",
       "    </tr>\n",
       "    <tr>\n",
       "      <th>Residual</th>\n",
       "      <td>2.874239e+08</td>\n",
       "      <td>6669.0</td>\n",
       "      <td>NaN</td>\n",
       "      <td>NaN</td>\n",
       "    </tr>\n",
       "  </tbody>\n",
       "</table>\n",
       "</div>"
      ],
      "text/plain": [
       "                        sum_sq      df           F         PR(>F)\n",
       "C(property_type)  4.004823e+06    14.0    6.637327   1.354623e-13\n",
       "C(bedrooms)       2.539828e+07    11.0   53.573437  4.080512e-114\n",
       "C(bathrooms)      3.151468e+07     9.0   81.247174  1.217086e-143\n",
       "C(parking)        2.815069e+06    13.0    5.024393   6.448718e-09\n",
       "schools           1.110345e+06     1.0   25.762971   3.964761e-07\n",
       "train_station     1.017019e+07     1.0  235.975557   2.320107e-52\n",
       "CBD               2.228292e+07     1.0  517.023168  2.689856e-110\n",
       "population2022    4.878717e+06     1.0  113.199226   3.164387e-26\n",
       "income2022        7.001461e+05     1.0   16.245256   5.626814e-05\n",
       "Residual          2.874239e+08  6669.0         NaN            NaN"
      ]
     },
     "execution_count": 2,
     "metadata": {},
     "output_type": "execute_result"
    }
   ],
   "source": [
    "import pandas as pd\n",
    "import statsmodels.api as sm\n",
    "from statsmodels.formula.api import ols\n",
    "\n",
    "model = ols('cost_text ~ C(property_type) + C(bedrooms) + C(bathrooms) + C(parking) + schools + train_station + CBD + population2022 + income2022',\n",
    "            data=df).fit()\n",
    "df_feature=sm.stats.anova_lm(model, typ=2)\n",
    "df_feature"
   ]
  },
  {
   "cell_type": "markdown",
   "id": "2477864e",
   "metadata": {},
   "source": [
    "From above tavle, it can be found that the p-vale of all variables are less than 0.05, which means all variables have significant influence on rental price"
   ]
  },
  {
   "cell_type": "code",
   "execution_count": 3,
   "id": "e0032440",
   "metadata": {},
   "outputs": [],
   "source": [
    "# save ouput to csv file\n",
    "df_feature.to_csv('../data/curated/feature_selection.csv')"
   ]
  },
  {
   "cell_type": "markdown",
   "id": "76c0de31",
   "metadata": {},
   "source": [
    "### Useful internal features: property_type, bedrooms, bathrooms, parking\n",
    "### Useful external features: distance to the nearest school, distance to the nearest train_station, distance to CBD, population, median income"
   ]
  },
  {
   "cell_type": "markdown",
   "id": "e4532063",
   "metadata": {},
   "source": [
    "### Assumption: since bedrooms, bathrooms, parking are ordinal variables, so we asume they are categorical variables\n",
    "### Limtation: Anova determines with numerical variables(distance to the nearest school&train station&CBD) may not very accurately "
   ]
  },
  {
   "cell_type": "markdown",
   "id": "5bcc2dbc",
   "metadata": {},
   "source": []
  }
 ],
 "metadata": {
  "kernelspec": {
   "display_name": "Python 3 (ipykernel)",
   "language": "python",
   "name": "python3"
  },
  "language_info": {
   "codemirror_mode": {
    "name": "ipython",
    "version": 3
   },
   "file_extension": ".py",
   "mimetype": "text/x-python",
   "name": "python",
   "nbconvert_exporter": "python",
   "pygments_lexer": "ipython3",
   "version": "3.9.7"
  }
 },
 "nbformat": 4,
 "nbformat_minor": 5
}
