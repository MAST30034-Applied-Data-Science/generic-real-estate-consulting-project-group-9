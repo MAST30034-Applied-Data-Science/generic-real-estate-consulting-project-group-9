{
 "cells": [
  {
   "cell_type": "code",
   "execution_count": null,
   "metadata": {},
   "outputs": [],
   "source": [
    "import geopandas as gpd\n",
    "sf = gpd.read_file(\"../data/raw/VMADMIN/POSTCODE_POLYGON.shp\")"
   ]
  },
  {
   "cell_type": "code",
   "execution_count": null,
   "metadata": {},
   "outputs": [],
   "source": [
    "# create a JSON \n",
    "geoJSON = sf[['POSTCODE', 'geometry']].drop_duplicates('POSTCODE').to_json()"
   ]
  },
  {
   "cell_type": "code",
   "execution_count": null,
   "metadata": {},
   "outputs": [],
   "source": [
    "import folium\n",
    "_map = folium.Map(location=[-37.0,144], control_scale=True, zoom_start=7)\n",
    "\n",
    "# refer to the folium documentations on how to plot aggregated data.\n",
    "_map.add_child(folium.Choropleth(\n",
    "    geo_data=geoJSON,\n",
    "    name='choropleth',\n",
    "))"
   ]
  }
 ],
 "metadata": {
  "kernelspec": {
   "display_name": "Python 3.6.13 ('ads')",
   "language": "python",
   "name": "python3"
  },
  "language_info": {
   "name": "python",
   "version": "3.6.13"
  },
  "orig_nbformat": 4,
  "vscode": {
   "interpreter": {
    "hash": "4980b5300d3c3c9f5050e33fb8deda18f75b07b77b735c52cfb93623d4d557d6"
   }
  }
 },
 "nbformat": 4,
 "nbformat_minor": 2
}
