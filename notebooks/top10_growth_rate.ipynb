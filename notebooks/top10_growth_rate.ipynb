{
 "cells": [
  {
   "cell_type": "code",
   "execution_count": 19,
   "metadata": {},
   "outputs": [
    {
     "data": {
      "text/html": [
       "<div>\n",
       "<style scoped>\n",
       "    .dataframe tbody tr th:only-of-type {\n",
       "        vertical-align: middle;\n",
       "    }\n",
       "\n",
       "    .dataframe tbody tr th {\n",
       "        vertical-align: top;\n",
       "    }\n",
       "\n",
       "    .dataframe thead th {\n",
       "        text-align: right;\n",
       "    }\n",
       "</style>\n",
       "<table border=\"1\" class=\"dataframe\">\n",
       "  <thead>\n",
       "    <tr style=\"text-align: right;\">\n",
       "      <th></th>\n",
       "      <th>post_code</th>\n",
       "      <th>growth_rate</th>\n",
       "    </tr>\n",
       "  </thead>\n",
       "  <tbody>\n",
       "    <tr>\n",
       "      <th>0</th>\n",
       "      <td>3714</td>\n",
       "      <td>2.267857</td>\n",
       "    </tr>\n",
       "    <tr>\n",
       "      <th>1</th>\n",
       "      <td>3779</td>\n",
       "      <td>1.077143</td>\n",
       "    </tr>\n",
       "    <tr>\n",
       "      <th>2</th>\n",
       "      <td>3019</td>\n",
       "      <td>0.793766</td>\n",
       "    </tr>\n",
       "    <tr>\n",
       "      <th>3</th>\n",
       "      <td>3075</td>\n",
       "      <td>0.446740</td>\n",
       "    </tr>\n",
       "    <tr>\n",
       "      <th>4</th>\n",
       "      <td>3026</td>\n",
       "      <td>0.409205</td>\n",
       "    </tr>\n",
       "  </tbody>\n",
       "</table>\n",
       "</div>"
      ],
      "text/plain": [
       "   post_code  growth_rate\n",
       "0       3714     2.267857\n",
       "1       3779     1.077143\n",
       "2       3019     0.793766\n",
       "3       3075     0.446740\n",
       "4       3026     0.409205"
      ]
     },
     "execution_count": 19,
     "metadata": {},
     "output_type": "execute_result"
    }
   ],
   "source": [
    "import pandas as pd\n",
    "import matplotlib.pyplot as plt\n",
    "#read data\n",
    "df = pd.read_csv('../data/curated/growth_rate3.csv')\n",
    "df.head()"
   ]
  },
  {
   "cell_type": "code",
   "execution_count": 20,
   "metadata": {},
   "outputs": [],
   "source": [
    "import geopandas as gpd\n",
    "import folium\n",
    "import seaborn as sns\n",
    "sf = gpd.read_file(\"../data/raw/VMADMIN/POSTCODE_POLYGON.shp\")\n",
    "sf['centroid'] = sf['geometry'].apply(lambda x: (x.centroid.y, x.centroid.x))\n",
    "# create a JSON \n",
    "postcode = []\n",
    "for i in sf.iloc[:,1:2].values:\n",
    "    postcode.append(int(i))\n",
    "sf['postcode'] = postcode\n",
    "geoJSON = sf[['postcode', 'geometry']].drop_duplicates('postcode').to_json()"
   ]
  },
  {
   "cell_type": "code",
   "execution_count": 21,
   "metadata": {},
   "outputs": [
    {
     "data": {
      "text/html": [
       "<div>\n",
       "<style scoped>\n",
       "    .dataframe tbody tr th:only-of-type {\n",
       "        vertical-align: middle;\n",
       "    }\n",
       "\n",
       "    .dataframe tbody tr th {\n",
       "        vertical-align: top;\n",
       "    }\n",
       "\n",
       "    .dataframe thead th {\n",
       "        text-align: right;\n",
       "    }\n",
       "</style>\n",
       "<table border=\"1\" class=\"dataframe\">\n",
       "  <thead>\n",
       "    <tr style=\"text-align: right;\">\n",
       "      <th></th>\n",
       "      <th>post_code</th>\n",
       "      <th>growth_rate</th>\n",
       "    </tr>\n",
       "  </thead>\n",
       "  <tbody>\n",
       "    <tr>\n",
       "      <th>0</th>\n",
       "      <td>3714</td>\n",
       "      <td>2.267857</td>\n",
       "    </tr>\n",
       "    <tr>\n",
       "      <th>1</th>\n",
       "      <td>3779</td>\n",
       "      <td>1.077143</td>\n",
       "    </tr>\n",
       "    <tr>\n",
       "      <th>2</th>\n",
       "      <td>3019</td>\n",
       "      <td>0.793766</td>\n",
       "    </tr>\n",
       "    <tr>\n",
       "      <th>3</th>\n",
       "      <td>3075</td>\n",
       "      <td>0.446740</td>\n",
       "    </tr>\n",
       "    <tr>\n",
       "      <th>4</th>\n",
       "      <td>3026</td>\n",
       "      <td>0.409205</td>\n",
       "    </tr>\n",
       "    <tr>\n",
       "      <th>5</th>\n",
       "      <td>3047</td>\n",
       "      <td>0.400249</td>\n",
       "    </tr>\n",
       "    <tr>\n",
       "      <th>6</th>\n",
       "      <td>3020</td>\n",
       "      <td>0.356444</td>\n",
       "    </tr>\n",
       "    <tr>\n",
       "      <th>7</th>\n",
       "      <td>3048</td>\n",
       "      <td>0.339016</td>\n",
       "    </tr>\n",
       "    <tr>\n",
       "      <th>8</th>\n",
       "      <td>3060</td>\n",
       "      <td>0.323021</td>\n",
       "    </tr>\n",
       "    <tr>\n",
       "      <th>9</th>\n",
       "      <td>3038</td>\n",
       "      <td>0.321212</td>\n",
       "    </tr>\n",
       "  </tbody>\n",
       "</table>\n",
       "</div>"
      ],
      "text/plain": [
       "   post_code  growth_rate\n",
       "0       3714     2.267857\n",
       "1       3779     1.077143\n",
       "2       3019     0.793766\n",
       "3       3075     0.446740\n",
       "4       3026     0.409205\n",
       "5       3047     0.400249\n",
       "6       3020     0.356444\n",
       "7       3048     0.339016\n",
       "8       3060     0.323021\n",
       "9       3038     0.321212"
      ]
     },
     "execution_count": 21,
     "metadata": {},
     "output_type": "execute_result"
    }
   ],
   "source": [
    "# top 10 suburbs with highest growth rates \n",
    "df_top10_growth_rate = df.sort_values(by='growth_rate', axis=0, ascending=False).head(10)\n",
    "df_top10_growth_rate"
   ]
  },
  {
   "cell_type": "code",
   "execution_count": 22,
   "metadata": {},
   "outputs": [],
   "source": [
    "#merge the growth rate dataset with the postcode polygon dataset\n",
    "post_code = []\n",
    "for i in sf['POSTCODE']:\n",
    "    post_code.append(int(str(i)))\n",
    "sf['post_code'] = post_code\n",
    "df_top10 = pd.merge(df_top10_growth_rate,sf,on = ['post_code'],how='left')"
   ]
  },
  {
   "cell_type": "code",
   "execution_count": 23,
   "metadata": {},
   "outputs": [],
   "source": [
    "\n",
    "m3 = folium.Map(location=[-37.0,144], control_scale=True, zoom_start=7)\n",
    "\n",
    "# create the map showing the predicted rate of all the postcodes\n",
    "c3 = folium.Choropleth(\n",
    "    geo_data=geoJSON,\n",
    "    name='choropleth2', \n",
    "    data=df, \n",
    "    columns=['post_code','growth_rate'],\n",
    "    key_on='properties.postcode',\n",
    "    fill_color='YlOrRd',\n",
    "    nan_fill_color='black',\n",
    "    legend_name='growth_rate'\n",
    ")\n",
    "\n",
    "c3.add_to(m3)\n",
    "df_copy = df_top10.copy()\n",
    "\n",
    "#adding the green marker of top 10 suburbs\n",
    "for i in range(0, len(df_copy)):\n",
    "    html=\"\"\"\n",
    "    <h4> Postcode: </h4>\"\"\" + str(df_copy.iloc[i]['post_code'])+ \\\n",
    "    \"\"\"<h4>Growth_rate:</h4>\"\"\" + str(df_copy.iloc[i]['growth_rate'])\n",
    "    iframe = folium.IFrame(html=html, width=200, height=300)\n",
    "    popup = folium.Popup(iframe, max_width=2650)\n",
    "    folium.Marker(\n",
    "        location=[df_copy.iloc[i]['centroid'][0],df_copy.iloc[i]['centroid'][1]],\n",
    "        popup= popup,\n",
    "        tooltip=str(df_copy.iloc[i]['post_code']),\n",
    "        icon=folium.Icon(color='green',icon='home',prefix=\"fa\"),\n",
    "    ).add_to(m3)"
   ]
  },
  {
   "cell_type": "code",
   "execution_count": 24,
   "metadata": {},
   "outputs": [],
   "source": [
    "#save the visualization of top 10 suburbs with highest pridicted grow rate in plots\n",
    "import os\n",
    "fig_save_path = \"../plots/\"\n",
    "if not os.path.exists(fig_save_path):\n",
    "    os.makedirs(fig_save_path)\n",
    "m3.save(os.path.join(fig_save_path,\"top 10 suburbs with the highest predicted growth rate.html\"))"
   ]
  }
 ],
 "metadata": {
  "kernelspec": {
   "display_name": "Python 3.6.13 ('ads')",
   "language": "python",
   "name": "python3"
  },
  "language_info": {
   "codemirror_mode": {
    "name": "ipython",
    "version": 3
   },
   "file_extension": ".py",
   "mimetype": "text/x-python",
   "name": "python",
   "nbconvert_exporter": "python",
   "pygments_lexer": "ipython3",
   "version": "3.6.13"
  },
  "orig_nbformat": 4,
  "vscode": {
   "interpreter": {
    "hash": "4980b5300d3c3c9f5050e33fb8deda18f75b07b77b735c52cfb93623d4d557d6"
   }
  }
 },
 "nbformat": 4,
 "nbformat_minor": 2
}
