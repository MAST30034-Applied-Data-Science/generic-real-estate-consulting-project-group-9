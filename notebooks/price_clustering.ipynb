{
 "cells": [
  {
   "cell_type": "code",
   "execution_count": 35,
   "metadata": {},
   "outputs": [],
   "source": [
    "import pandas as pd\n",
    "\n",
    "#Read dataset\n",
    "#Ignore properties with 100 < price < 100000\n",
    "property_df = pd.read_csv('../data/curated/final2.csv').sort_values(\"cost_text\")[32:-1]\n"
   ]
  },
  {
   "cell_type": "code",
   "execution_count": 36,
   "metadata": {},
   "outputs": [
    {
     "name": "stdout",
     "output_type": "stream",
     "text": [
      "[0 0 0 ... 3 1 1]\n",
      "[[  434.09427546]\n",
      " [41000.        ]\n",
      " [  941.75859435]\n",
      " [ 2323.32478632]]\n"
     ]
    }
   ],
   "source": [
    "#Cluster the prices\n",
    "from typing import List\n",
    "from sklearn.cluster import KMeans\n",
    "import numpy as np\n",
    "\n",
    "K=4\n",
    "inertia = []\n",
    "\n",
    "price_list = list(property_df[\"cost_text\"])\n",
    "\n",
    "# k value assigned to 2\n",
    "kmeans = KMeans(n_clusters=K, random_state=0) \n",
    "y_kmeans = kmeans.fit(np.reshape(price_list,(len(price_list),1)))\n",
    "labels = kmeans.labels_\n",
    "print(labels)\n",
    "print(kmeans.cluster_centers_)\n",
    "#print(kmeans.inertia_)\n",
    "property_df[\"price_label\"] = labels"
   ]
  },
  {
   "cell_type": "code",
   "execution_count": 37,
   "metadata": {},
   "outputs": [
    {
     "name": "stdout",
     "output_type": "stream",
     "text": [
      "35000.0\n",
      "47000.0\n"
     ]
    }
   ],
   "source": [
    "#Standardize price based on cluster label\n",
    "WEEK = 0\n",
    "YEAR = 1\n",
    "WEEK1 = 2\n",
    "MONTH = 3\n",
    "\n",
    "#Assume monthly price is between (2000,20000)\n",
    "#Assume yearly price is > 20000\n",
    "\n",
    "#Normalise price to per week\n",
    "for index, row in property_df.iterrows():\n",
    "    #For monthly price\n",
    "    if(row[\"price_label\"]==MONTH and (2000 <row[\"cost_text\"] <20000)):\n",
    "        property_df.at[index,'cost_text'] = row[\"cost_text\"]*12/52\n",
    "    #For yearly price\n",
    "    if(row[\"price_label\"]==YEAR or row[\"cost_text\"]>20000):\n",
    "        property_df.at[index,'cost_text'] = row[\"cost_text\"]/52\n",
    "    \n",
    "\n"
   ]
  },
  {
   "cell_type": "code",
   "execution_count": 38,
   "metadata": {},
   "outputs": [],
   "source": [
    "#Saved normalised price\n",
    "property_df.to_csv('../data/curated/price_normalised3.csv')"
   ]
  }
 ],
 "metadata": {
  "kernelspec": {
   "display_name": "Python 3.8.10 64-bit",
   "language": "python",
   "name": "python3"
  },
  "language_info": {
   "codemirror_mode": {
    "name": "ipython",
    "version": 3
   },
   "file_extension": ".py",
   "mimetype": "text/x-python",
   "name": "python",
   "nbconvert_exporter": "python",
   "pygments_lexer": "ipython3",
   "version": "3.8.10"
  },
  "orig_nbformat": 4,
  "vscode": {
   "interpreter": {
    "hash": "916dbcbb3f70747c44a77c7bcd40155683ae19c65e1c03b4aa3499c5328201f1"
   }
  }
 },
 "nbformat": 4,
 "nbformat_minor": 2
}
